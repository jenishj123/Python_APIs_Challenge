{
 "cells": [
  {
   "cell_type": "markdown",
   "metadata": {},
   "source": [
    "# OBSERVATIONS\n",
    "\n",
    "### 1. The temperature correlates well with the latitude according to the graphical data. In the correlation, as the latitude moves away from the equator, the temperature also decreases.\n",
    "\n",
    "### 2. Also I observed that there seems to be very little correation between the latitude and the wind speed (mph). The wind speed tends to increase when the temperature is colder compared to when it is warmer.\n",
    "\n",
    "### 2. There seems to be no correlation between humidity and latitude. \n"
   ]
  },
  {
   "cell_type": "code",
   "execution_count": 1,
   "metadata": {},
   "outputs": [
    {
     "name": "stdout",
     "output_type": "stream",
     "text": [
      "Requirement already satisfied: citipy in c:\\users\\jariwalaj2\\anaconda3\\envs\\pythondata\\lib\\site-packages (0.0.5)\n",
      "Requirement already satisfied: kdtree>=0.12 in c:\\users\\jariwalaj2\\anaconda3\\envs\\pythondata\\lib\\site-packages (from citipy) (0.16)\n"
     ]
    }
   ],
   "source": [
    "##!pip install citipy"
   ]
  },
  {
   "cell_type": "code",
   "execution_count": 1,
   "metadata": {},
   "outputs": [],
   "source": [
    "# Dependencies and Setup\n",
    "from citipy import citipy\n",
    "import matplotlib.pyplot as plt\n",
    "import pandas as pd\n",
    "import numpy as np\n",
    "import requests\n",
    "import time\n",
    "from scipy.stats import linregress\n",
    "\n",
    "# Import API key\n",
    "from api_keys import api_key\n",
    "\n",
    "# Incorporated citipy to determine city based on latitude and longitude\n",
    "# from citipy import citipy\n",
    "\n",
    "# Output File (CSV)\n",
    "output_data_file = \"Resources/cities.csv\"\n",
    "\n",
    "# Range of latitudes and longitudes\n",
    "lat_range = (-90, 90)\n",
    "lng_range = (-180, 180)"
   ]
  },
  {
   "cell_type": "code",
   "execution_count": 2,
   "metadata": {},
   "outputs": [
    {
     "data": {
      "text/plain": [
       "['nenjiang', 'viransehir', 'warrnambool', 'volga', 'rungata']"
      ]
     },
     "execution_count": 2,
     "metadata": {},
     "output_type": "execute_result"
    }
   ],
   "source": [
    "# Generate Cities List\n",
    "\n",
    "# Range of latitudes and longitudes\n",
    "lat_range = (-90, 90)\n",
    "lng_range = (-180, 180)\n",
    "\n",
    "# List for holding lat_lngs and cities\n",
    "lat_lngs = []\n",
    "cities = []\n",
    "\n",
    "\n",
    "# Create a set of random lat and lng combinations\n",
    "lats = np.random.uniform(lat_range[0], lat_range[1], size=1500)\n",
    "lngs = np.random.uniform(lng_range[0], lng_range[1], size=1500)\n",
    "lat_lngs = zip(lats, lngs)\n",
    "\n",
    "# Identify nearest city for each lat, lng combination\n",
    "for lat_lng in lat_lngs:\n",
    "    city = citipy.nearest_city(lat_lng[0], lat_lng[1]).city_name\n",
    "    \n",
    "    # If the city is unique, then add it to a our cities list\n",
    "    if city not in cities:\n",
    "        cities.append(city)\n",
    "\n",
    "# Print the city count to confirm sufficient count\n",
    "len(cities)\n",
    "cities[:5]"
   ]
  },
  {
   "cell_type": "code",
   "execution_count": 3,
   "metadata": {},
   "outputs": [
    {
     "data": {
      "text/plain": [
       "{'coord': {'lon': -58.6502, 'lat': 51.226},\n",
       " 'weather': [{'id': 801,\n",
       "   'main': 'Clouds',\n",
       "   'description': 'few clouds',\n",
       "   'icon': '02d'}],\n",
       " 'base': 'stations',\n",
       " 'main': {'temp': 13.96,\n",
       "  'feels_like': 3.16,\n",
       "  'temp_min': 13.96,\n",
       "  'temp_max': 13.96,\n",
       "  'pressure': 1013,\n",
       "  'humidity': 92,\n",
       "  'sea_level': 1013,\n",
       "  'grnd_level': 1013},\n",
       " 'visibility': 10000,\n",
       " 'wind': {'speed': 9.17, 'deg': 312},\n",
       " 'clouds': {'all': 21},\n",
       " 'dt': 1613234190,\n",
       " 'sys': {'country': 'CA', 'sunrise': 1613214679, 'sunset': 1613250390},\n",
       " 'timezone': -14400,\n",
       " 'id': 6137462,\n",
       " 'name': 'Saint-Augustin',\n",
       " 'cod': 200}"
      ]
     },
     "execution_count": 3,
     "metadata": {},
     "output_type": "execute_result"
    }
   ],
   "source": [
    "url = \"http://api.openweathermap.org/data/2.5/weather?units=imperial&appid=\" + api_key\n",
    "city1 = \"cayenne\"\n",
    "api_url = url + \"&q=\" + city\n",
    "output = requests.get(api_url).json()\n",
    "output"
   ]
  },
  {
   "cell_type": "code",
   "execution_count": 4,
   "metadata": {},
   "outputs": [
    {
     "name": "stdout",
     "output_type": "stream",
     "text": [
      "Begin\n",
      "Processing in Progess 1 of set 1 | nenjiang\n",
      "Processing in Progess 2 of set 1 | viransehir\n",
      "Processing in Progess 3 of set 1 | warrnambool\n",
      "Processing in Progess 4 of set 1 | volga\n",
      "Processing in Progess 5 of set 1 | rungata\n",
      "City not found. Skipping...\n",
      "Processing in Progess 6 of set 1 | waipawa\n",
      "Processing in Progess 7 of set 1 | kungurtug\n",
      "Processing in Progess 8 of set 1 | sibolga\n",
      "Processing in Progess 9 of set 1 | rikitea\n",
      "Processing in Progess 10 of set 1 | jamestown\n",
      "Processing in Progess 11 of set 1 | severo-kurilsk\n",
      "Processing in Progess 12 of set 1 | kamaishi\n",
      "Processing in Progess 13 of set 1 | eyl\n",
      "Processing in Progess 14 of set 1 | qaanaaq\n",
      "Processing in Progess 15 of set 1 | busselton\n",
      "Processing in Progess 16 of set 1 | ushuaia\n",
      "Processing in Progess 17 of set 1 | fairbanks\n",
      "Processing in Progess 18 of set 1 | hithadhoo\n",
      "Processing in Progess 19 of set 1 | ancud\n",
      "Processing in Progess 20 of set 1 | attawapiskat\n",
      "City not found. Skipping...\n",
      "Processing in Progess 21 of set 1 | chiang rai\n",
      "Processing in Progess 22 of set 1 | hermanus\n",
      "Processing in Progess 23 of set 1 | barentsburg\n",
      "City not found. Skipping...\n",
      "Processing in Progess 24 of set 1 | hobart\n",
      "Processing in Progess 25 of set 1 | wiang sa\n",
      "Processing in Progess 26 of set 1 | butaritari\n",
      "Processing in Progess 27 of set 1 | bredasdorp\n",
      "Processing in Progess 28 of set 1 | port elizabeth\n",
      "Processing in Progess 29 of set 1 | lebu\n",
      "Processing in Progess 30 of set 1 | albany\n",
      "Processing in Progess 31 of set 1 | karkaralinsk\n",
      "City not found. Skipping...\n",
      "Processing in Progess 32 of set 1 | bar harbor\n",
      "Processing in Progess 33 of set 1 | oksfjord\n",
      "Processing in Progess 34 of set 1 | mataura\n",
      "Processing in Progess 35 of set 1 | turkistan\n",
      "Processing in Progess 36 of set 1 | nizhneyansk\n",
      "City not found. Skipping...\n",
      "Processing in Progess 37 of set 1 | tuktoyaktuk\n",
      "Processing in Progess 38 of set 1 | marienburg\n",
      "Processing in Progess 39 of set 1 | simbahan\n",
      "Processing in Progess 40 of set 1 | saint-pierre\n",
      "Processing in Progess 41 of set 1 | mys shmidta\n",
      "City not found. Skipping...\n",
      "Processing in Progess 42 of set 1 | esperance\n",
      "Processing in Progess 43 of set 1 | castro\n",
      "Processing in Progess 44 of set 1 | roald\n",
      "Processing in Progess 45 of set 1 | varna\n",
      "Processing in Progess 46 of set 1 | batagay\n",
      "Processing in Progess 47 of set 1 | haines junction\n",
      "Processing in Progess 48 of set 1 | northam\n",
      "Processing in Progess 49 of set 1 | cape town\n",
      "Processing in Progess 50 of set 1 | vaini\n",
      "Processing in Progess 1 of set 2 | yuci\n",
      "Processing in Progess 2 of set 2 | dingle\n",
      "Processing in Progess 3 of set 2 | barrow\n",
      "Processing in Progess 4 of set 2 | klaksvik\n",
      "Processing in Progess 5 of set 2 | bisira\n",
      "Processing in Progess 6 of set 2 | iqaluit\n",
      "Processing in Progess 7 of set 2 | airai\n",
      "Processing in Progess 8 of set 2 | geraldton\n",
      "Processing in Progess 9 of set 2 | dikson\n",
      "Processing in Progess 10 of set 2 | yurimaguas\n",
      "Processing in Progess 11 of set 2 | paamiut\n",
      "Processing in Progess 12 of set 2 | vila velha\n",
      "Processing in Progess 13 of set 2 | kapaa\n",
      "Processing in Progess 14 of set 2 | richards bay\n",
      "Processing in Progess 15 of set 2 | harnosand\n",
      "Processing in Progess 16 of set 2 | guerrero negro\n",
      "Processing in Progess 17 of set 2 | ponta do sol\n",
      "Processing in Progess 18 of set 2 | praia\n",
      "Processing in Progess 19 of set 2 | punta arenas\n",
      "Processing in Progess 20 of set 2 | ledyard\n",
      "Processing in Progess 21 of set 2 | taolanaro\n",
      "City not found. Skipping...\n",
      "Processing in Progess 22 of set 2 | souillac\n",
      "Processing in Progess 23 of set 2 | plymouth\n",
      "Processing in Progess 24 of set 2 | ust-kulom\n",
      "Processing in Progess 25 of set 2 | coquimbo\n",
      "Processing in Progess 26 of set 2 | kamenka\n",
      "Processing in Progess 27 of set 2 | nikolskoye\n",
      "Processing in Progess 28 of set 2 | mountain home\n",
      "Processing in Progess 29 of set 2 | new norfolk\n",
      "Processing in Progess 30 of set 2 | tateyama\n",
      "Processing in Progess 31 of set 2 | ribeira grande\n",
      "Processing in Progess 32 of set 2 | dzhusaly\n",
      "City not found. Skipping...\n",
      "Processing in Progess 33 of set 2 | thinadhoo\n",
      "Processing in Progess 34 of set 2 | balingasay\n",
      "Processing in Progess 35 of set 2 | hasaki\n",
      "Processing in Progess 36 of set 2 | kilindoni\n",
      "Processing in Progess 37 of set 2 | amderma\n",
      "City not found. Skipping...\n",
      "Processing in Progess 38 of set 2 | kembe\n",
      "Processing in Progess 39 of set 2 | namatanai\n",
      "Processing in Progess 40 of set 2 | vaitupu\n",
      "City not found. Skipping...\n",
      "Processing in Progess 41 of set 2 | hilo\n",
      "Processing in Progess 42 of set 2 | arraial do cabo\n",
      "Processing in Progess 43 of set 2 | marzuq\n",
      "Processing in Progess 44 of set 2 | antalaha\n",
      "Processing in Progess 45 of set 2 | provideniya\n",
      "Processing in Progess 46 of set 2 | georgetown\n",
      "Processing in Progess 47 of set 2 | yulara\n",
      "Processing in Progess 48 of set 2 | norman wells\n",
      "Processing in Progess 49 of set 2 | vilhena\n",
      "Processing in Progess 50 of set 2 | pevek\n",
      "Processing in Progess 1 of set 3 | constitucion\n",
      "Processing in Progess 2 of set 3 | abu samrah\n",
      "Processing in Progess 3 of set 3 | bend\n",
      "Processing in Progess 4 of set 3 | marcona\n",
      "City not found. Skipping...\n",
      "Processing in Progess 5 of set 3 | thompson\n",
      "Processing in Progess 6 of set 3 | kaberamaido\n",
      "Processing in Progess 7 of set 3 | saint george\n",
      "Processing in Progess 8 of set 3 | chifeng\n",
      "Processing in Progess 9 of set 3 | selizharovo\n",
      "Processing in Progess 10 of set 3 | diffa\n",
      "Processing in Progess 11 of set 3 | khash\n",
      "Processing in Progess 12 of set 3 | pierre\n",
      "Processing in Progess 13 of set 3 | illoqqortoormiut\n",
      "City not found. Skipping...\n",
      "Processing in Progess 14 of set 3 | sitka\n",
      "Processing in Progess 15 of set 3 | huilong\n",
      "Processing in Progess 16 of set 3 | mezhdurechensk\n",
      "Processing in Progess 17 of set 3 | puerto leguizamo\n",
      "Processing in Progess 18 of set 3 | clyde river\n",
      "Processing in Progess 19 of set 3 | novo cruzeiro\n",
      "Processing in Progess 20 of set 3 | bethel\n",
      "Processing in Progess 21 of set 3 | sanmenxia\n",
      "Processing in Progess 22 of set 3 | port alfred\n",
      "Processing in Progess 23 of set 3 | avarua\n",
      "Processing in Progess 24 of set 3 | shache\n",
      "Processing in Progess 25 of set 3 | ginda\n",
      "Processing in Progess 26 of set 3 | superior\n",
      "Processing in Progess 27 of set 3 | atuona\n",
      "Processing in Progess 28 of set 3 | esmeraldas\n",
      "Processing in Progess 29 of set 3 | prince rupert\n",
      "Processing in Progess 30 of set 3 | misratah\n",
      "Processing in Progess 31 of set 3 | aitape\n",
      "Processing in Progess 32 of set 3 | jieshi\n",
      "Processing in Progess 33 of set 3 | acapulco\n",
      "Processing in Progess 34 of set 3 | flinders\n",
      "Processing in Progess 35 of set 3 | bluff\n",
      "Processing in Progess 36 of set 3 | iquitos\n",
      "Processing in Progess 37 of set 3 | cidreira\n",
      "Processing in Progess 38 of set 3 | lavrentiya\n",
      "Processing in Progess 39 of set 3 | wadi musa\n",
      "Processing in Progess 40 of set 3 | katsuura\n",
      "Processing in Progess 41 of set 3 | vila franca do campo\n",
      "Processing in Progess 42 of set 3 | beringovskiy\n",
      "Processing in Progess 43 of set 3 | carnarvon\n",
      "Processing in Progess 44 of set 3 | murray bridge\n",
      "Processing in Progess 45 of set 3 | uyuni\n",
      "Processing in Progess 46 of set 3 | moron\n",
      "Processing in Progess 47 of set 3 | talaya\n",
      "Processing in Progess 48 of set 3 | saint-philippe\n",
      "Processing in Progess 49 of set 3 | gannan\n",
      "Processing in Progess 50 of set 3 | baykit\n",
      "Processing in Progess 1 of set 4 | san quintin\n",
      "Processing in Progess 2 of set 4 | ismailia\n",
      "Processing in Progess 3 of set 4 | puerto ayora\n",
      "Processing in Progess 4 of set 4 | iracoubo\n",
      "Processing in Progess 5 of set 4 | doha\n",
      "Processing in Progess 6 of set 4 | asfi\n",
      "Processing in Progess 7 of set 4 | asau\n",
      "Processing in Progess 8 of set 4 | upernavik\n",
      "Processing in Progess 9 of set 4 | luderitz\n",
      "Processing in Progess 10 of set 4 | narsaq\n",
      "Processing in Progess 11 of set 4 | mnogovershinnyy\n",
      "Processing in Progess 12 of set 4 | panguna\n",
      "Processing in Progess 13 of set 4 | sakakah\n",
      "Processing in Progess 14 of set 4 | bambous virieux\n",
      "Processing in Progess 15 of set 4 | maceio\n",
      "Processing in Progess 16 of set 4 | tombouctou\n",
      "Processing in Progess 17 of set 4 | tarnos\n",
      "Processing in Progess 18 of set 4 | atascocita\n",
      "Processing in Progess 19 of set 4 | ngukurr\n",
      "City not found. Skipping...\n",
      "Processing in Progess 20 of set 4 | zelenoborsk\n",
      "Processing in Progess 21 of set 4 | mildura\n",
      "Processing in Progess 22 of set 4 | san patricio\n",
      "Processing in Progess 23 of set 4 | venado tuerto\n",
      "Processing in Progess 24 of set 4 | stykkisholmur\n"
     ]
    },
    {
     "name": "stdout",
     "output_type": "stream",
     "text": [
      "Processing in Progess 25 of set 4 | nishihara\n",
      "Processing in Progess 26 of set 4 | manaus\n",
      "Processing in Progess 27 of set 4 | kovernino\n",
      "Processing in Progess 28 of set 4 | arman\n",
      "Processing in Progess 29 of set 4 | faanui\n",
      "Processing in Progess 30 of set 4 | ilulissat\n",
      "Processing in Progess 31 of set 4 | eureka\n",
      "Processing in Progess 32 of set 4 | buchanan\n",
      "Processing in Progess 33 of set 4 | freeport\n",
      "Processing in Progess 34 of set 4 | leningradskiy\n",
      "Processing in Progess 35 of set 4 | xining\n",
      "Processing in Progess 36 of set 4 | campoverde\n",
      "Processing in Progess 37 of set 4 | beloha\n",
      "Processing in Progess 38 of set 4 | vestmannaeyjar\n",
      "Processing in Progess 39 of set 4 | zyryanovsk\n",
      "Processing in Progess 40 of set 4 | san cristobal\n",
      "Processing in Progess 41 of set 4 | yumen\n",
      "Processing in Progess 42 of set 4 | berlevag\n",
      "Processing in Progess 43 of set 4 | marawi\n",
      "Processing in Progess 44 of set 4 | arlit\n",
      "Processing in Progess 45 of set 4 | bengkulu\n",
      "Processing in Progess 46 of set 4 | east london\n",
      "Processing in Progess 47 of set 4 | tuatapere\n",
      "Processing in Progess 48 of set 4 | lazaro cardenas\n",
      "Processing in Progess 49 of set 4 | khani\n",
      "Processing in Progess 50 of set 4 | vidim\n",
      "Processing in Progess 1 of set 5 | port hedland\n",
      "Processing in Progess 2 of set 5 | rosarito\n",
      "Processing in Progess 3 of set 5 | san carlos de bariloche\n",
      "Processing in Progess 4 of set 5 | boulder city\n",
      "Processing in Progess 5 of set 5 | peleduy\n",
      "Processing in Progess 6 of set 5 | caravelas\n",
      "Processing in Progess 7 of set 5 | jalu\n",
      "Processing in Progess 8 of set 5 | itoman\n",
      "Processing in Progess 9 of set 5 | belushya guba\n",
      "City not found. Skipping...\n",
      "Processing in Progess 10 of set 5 | pontal do parana\n",
      "Processing in Progess 11 of set 5 | lompoc\n",
      "Processing in Progess 12 of set 5 | chokurdakh\n",
      "Processing in Progess 13 of set 5 | port keats\n",
      "Processing in Progess 14 of set 5 | la asuncion\n",
      "Processing in Progess 15 of set 5 | mitu\n",
      "Processing in Progess 16 of set 5 | kahului\n",
      "Processing in Progess 17 of set 5 | khandagayty\n",
      "Processing in Progess 18 of set 5 | mackay\n",
      "Processing in Progess 19 of set 5 | manzanillo\n",
      "Processing in Progess 20 of set 5 | loding\n",
      "Processing in Progess 21 of set 5 | poum\n",
      "Processing in Progess 22 of set 5 | maumere\n",
      "Processing in Progess 23 of set 5 | itaqui\n",
      "Processing in Progess 24 of set 5 | bartica\n",
      "Processing in Progess 25 of set 5 | innisfail\n",
      "Processing in Progess 26 of set 5 | parry sound\n",
      "Processing in Progess 27 of set 5 | avera\n",
      "Processing in Progess 28 of set 5 | waitati\n",
      "Processing in Progess 29 of set 5 | khatanga\n",
      "Processing in Progess 30 of set 5 | corrente\n",
      "Processing in Progess 31 of set 5 | suicheng\n",
      "Processing in Progess 32 of set 5 | volosovo\n",
      "Processing in Progess 33 of set 5 | grand centre\n",
      "City not found. Skipping...\n",
      "Processing in Progess 34 of set 5 | lethem\n",
      "Processing in Progess 35 of set 5 | shizunai\n",
      "Processing in Progess 36 of set 5 | quincy\n",
      "Processing in Progess 37 of set 5 | hisua\n",
      "Processing in Progess 38 of set 5 | tomatlan\n",
      "Processing in Progess 39 of set 5 | pisco\n",
      "Processing in Progess 40 of set 5 | tulum\n",
      "Processing in Progess 41 of set 5 | karpathos\n",
      "Processing in Progess 42 of set 5 | ucluelet\n",
      "Processing in Progess 43 of set 5 | ixtapa\n",
      "Processing in Progess 44 of set 5 | belmonte\n",
      "Processing in Progess 45 of set 5 | acari\n",
      "Processing in Progess 46 of set 5 | kemijarvi\n",
      "Processing in Progess 47 of set 5 | west wendover\n",
      "Processing in Progess 48 of set 5 | la llanada\n",
      "Processing in Progess 49 of set 5 | chagda\n",
      "City not found. Skipping...\n",
      "Processing in Progess 50 of set 5 | lolua\n",
      "City not found. Skipping...\n",
      "Processing in Progess 1 of set 6 | vila\n",
      "Processing in Progess 2 of set 6 | port said\n",
      "Processing in Progess 3 of set 6 | pontianak\n",
      "Processing in Progess 4 of set 6 | korla\n",
      "Processing in Progess 5 of set 6 | virginia beach\n",
      "Processing in Progess 6 of set 6 | cabo san lucas\n",
      "Processing in Progess 7 of set 6 | kazalinsk\n",
      "City not found. Skipping...\n",
      "Processing in Progess 8 of set 6 | tasiilaq\n",
      "Processing in Progess 9 of set 6 | columbia\n",
      "Processing in Progess 10 of set 6 | meadow lake\n",
      "Processing in Progess 11 of set 6 | chapais\n",
      "Processing in Progess 12 of set 6 | bowen\n",
      "Processing in Progess 13 of set 6 | bargal\n",
      "City not found. Skipping...\n",
      "Processing in Progess 14 of set 6 | vernon\n",
      "Processing in Progess 15 of set 6 | mar del plata\n",
      "Processing in Progess 16 of set 6 | nanortalik\n",
      "Processing in Progess 17 of set 6 | morgan city\n",
      "Processing in Progess 18 of set 6 | ostrovnoy\n",
      "Processing in Progess 19 of set 6 | alberton\n",
      "Processing in Progess 20 of set 6 | bella vista\n",
      "Processing in Progess 21 of set 6 | kavaratti\n",
      "Processing in Progess 22 of set 6 | longyearbyen\n",
      "Processing in Progess 23 of set 6 | bousso\n",
      "Processing in Progess 24 of set 6 | valle de allende\n",
      "Processing in Progess 25 of set 6 | severnyy\n",
      "Processing in Progess 26 of set 6 | bom jesus\n",
      "Processing in Progess 27 of set 6 | cherskiy\n",
      "Processing in Progess 28 of set 6 | hamada\n",
      "Processing in Progess 29 of set 6 | shahr-e babak\n",
      "Processing in Progess 30 of set 6 | anchorage\n",
      "Processing in Progess 31 of set 6 | sao filipe\n",
      "Processing in Progess 32 of set 6 | debre sina\n",
      "Processing in Progess 33 of set 6 | tsihombe\n",
      "City not found. Skipping...\n",
      "Processing in Progess 34 of set 6 | ranong\n",
      "Processing in Progess 35 of set 6 | opuwo\n",
      "Processing in Progess 36 of set 6 | tumannyy\n",
      "City not found. Skipping...\n",
      "Processing in Progess 37 of set 6 | vaitape\n",
      "Processing in Progess 38 of set 6 | caruray\n",
      "Processing in Progess 39 of set 6 | sangar\n",
      "Processing in Progess 40 of set 6 | tabuk\n",
      "Processing in Progess 41 of set 6 | torbay\n",
      "Processing in Progess 42 of set 6 | bubaque\n",
      "Processing in Progess 43 of set 6 | okato\n",
      "Processing in Progess 44 of set 6 | almunecar\n",
      "Processing in Progess 45 of set 6 | lidkoping\n",
      "Processing in Progess 46 of set 6 | namibe\n",
      "Processing in Progess 47 of set 6 | hounde\n",
      "Processing in Progess 48 of set 6 | hofn\n",
      "Processing in Progess 49 of set 6 | vao\n",
      "Processing in Progess 50 of set 6 | skalistyy\n",
      "City not found. Skipping...\n",
      "Processing in Progess 1 of set 7 | wulanhaote\n",
      "City not found. Skipping...\n",
      "Processing in Progess 2 of set 7 | saskylakh\n",
      "Processing in Progess 3 of set 7 | grand river south east\n",
      "City not found. Skipping...\n",
      "Processing in Progess 4 of set 7 | kindu\n",
      "Processing in Progess 5 of set 7 | vytegra\n",
      "Processing in Progess 6 of set 7 | margate\n",
      "Processing in Progess 7 of set 7 | ituporanga\n",
      "Processing in Progess 8 of set 7 | vitim\n",
      "Processing in Progess 9 of set 7 | port-gentil\n",
      "Processing in Progess 10 of set 7 | athens\n",
      "Processing in Progess 11 of set 7 | londiani\n",
      "Processing in Progess 12 of set 7 | port-cartier\n",
      "Processing in Progess 13 of set 7 | caxito\n",
      "Processing in Progess 14 of set 7 | kaitangata\n",
      "Processing in Progess 15 of set 7 | coahuayana\n",
      "Processing in Progess 16 of set 7 | hafizabad\n",
      "Processing in Progess 17 of set 7 | jujuy\n",
      "City not found. Skipping...\n",
      "Processing in Progess 18 of set 7 | anadyr\n",
      "Processing in Progess 19 of set 7 | kruisfontein\n",
      "Processing in Progess 20 of set 7 | mahebourg\n",
      "Processing in Progess 21 of set 7 | pano aqil\n",
      "Processing in Progess 22 of set 7 | garowe\n",
      "Processing in Progess 23 of set 7 | baghmara\n",
      "Processing in Progess 24 of set 7 | padang\n",
      "Processing in Progess 25 of set 7 | mpongwe\n",
      "Processing in Progess 26 of set 7 | yellowknife\n",
      "Processing in Progess 27 of set 7 | gerede\n",
      "Processing in Progess 28 of set 7 | ballina\n",
      "Processing in Progess 29 of set 7 | angostura\n",
      "Processing in Progess 30 of set 7 | codrington\n",
      "Processing in Progess 31 of set 7 | nuuk\n",
      "Processing in Progess 32 of set 7 | chuy\n",
      "Processing in Progess 33 of set 7 | farafangana\n",
      "Processing in Progess 34 of set 7 | banda aceh\n",
      "Processing in Progess 35 of set 7 | broome\n",
      "Processing in Progess 36 of set 7 | huron\n",
      "Processing in Progess 37 of set 7 | srednekolymsk\n",
      "Processing in Progess 38 of set 7 | monrovia\n",
      "Processing in Progess 39 of set 7 | saint-denis\n",
      "Processing in Progess 40 of set 7 | santa cecilia\n",
      "Processing in Progess 41 of set 7 | zhangye\n",
      "Processing in Progess 42 of set 7 | sinop\n",
      "Processing in Progess 43 of set 7 | le port\n",
      "Processing in Progess 44 of set 7 | murgud\n",
      "Processing in Progess 45 of set 7 | sentyabrskiy\n",
      "City not found. Skipping...\n",
      "Processing in Progess 46 of set 7 | halalo\n",
      "City not found. Skipping...\n",
      "Processing in Progess 47 of set 7 | vardo\n",
      "Processing in Progess 48 of set 7 | sobolevo\n"
     ]
    },
    {
     "name": "stdout",
     "output_type": "stream",
     "text": [
      "Processing in Progess 49 of set 7 | honggang\n",
      "Processing in Progess 50 of set 7 | phangnga\n",
      "Processing in Progess 1 of set 8 | gat\n",
      "Processing in Progess 2 of set 8 | bandarbeyla\n",
      "Processing in Progess 3 of set 8 | dong hoi\n",
      "Processing in Progess 4 of set 8 | kodiak\n",
      "Processing in Progess 5 of set 8 | boa vista\n",
      "Processing in Progess 6 of set 8 | utiroa\n",
      "City not found. Skipping...\n",
      "Processing in Progess 7 of set 8 | cruzeiro do sul\n",
      "Processing in Progess 8 of set 8 | arandis\n",
      "Processing in Progess 9 of set 8 | kosh-agach\n",
      "Processing in Progess 10 of set 8 | nouadhibou\n",
      "Processing in Progess 11 of set 8 | sharlyk\n",
      "Processing in Progess 12 of set 8 | san isidro\n",
      "Processing in Progess 13 of set 8 | alice springs\n",
      "Processing in Progess 14 of set 8 | yar-sale\n",
      "Processing in Progess 15 of set 8 | tiksi\n",
      "Processing in Progess 16 of set 8 | saint anthony\n",
      "Processing in Progess 17 of set 8 | nemuro\n",
      "Processing in Progess 18 of set 8 | mrirt\n",
      "City not found. Skipping...\n",
      "Processing in Progess 19 of set 8 | saleaula\n",
      "City not found. Skipping...\n",
      "Processing in Progess 20 of set 8 | atasu\n",
      "Processing in Progess 21 of set 8 | petropavlovsk-kamchatskiy\n",
      "Processing in Progess 22 of set 8 | samusu\n",
      "City not found. Skipping...\n",
      "Processing in Progess 23 of set 8 | along\n",
      "Processing in Progess 24 of set 8 | fare\n",
      "Processing in Progess 25 of set 8 | trairi\n",
      "Processing in Progess 26 of set 8 | pak phanang\n",
      "Processing in Progess 27 of set 8 | touros\n",
      "Processing in Progess 28 of set 8 | maltahohe\n",
      "Processing in Progess 29 of set 8 | nyurba\n",
      "Processing in Progess 30 of set 8 | sinnamary\n",
      "Processing in Progess 31 of set 8 | neyshabur\n",
      "Processing in Progess 32 of set 8 | aasiaat\n",
      "Processing in Progess 33 of set 8 | dire\n",
      "Processing in Progess 34 of set 8 | oktyabrskoye\n",
      "Processing in Progess 35 of set 8 | aykhal\n",
      "Processing in Progess 36 of set 8 | hamilton\n",
      "Processing in Progess 37 of set 8 | alihe\n",
      "Processing in Progess 38 of set 8 | brigantine\n",
      "Processing in Progess 39 of set 8 | nkhotakota\n",
      "Processing in Progess 40 of set 8 | mathbaria\n",
      "Processing in Progess 41 of set 8 | damietta\n",
      "Processing in Progess 42 of set 8 | suffolk\n",
      "Processing in Progess 43 of set 8 | kendari\n",
      "Processing in Progess 44 of set 8 | dzheyrakh\n",
      "Processing in Progess 45 of set 8 | vercelli\n",
      "Processing in Progess 46 of set 8 | sao jose da coroa grande\n",
      "Processing in Progess 47 of set 8 | yeppoon\n",
      "Processing in Progess 48 of set 8 | bathsheba\n",
      "Processing in Progess 49 of set 8 | itaituba\n",
      "Processing in Progess 50 of set 8 | wuchang\n",
      "Processing in Progess 1 of set 9 | teyateyaneng\n",
      "Processing in Progess 2 of set 9 | talnakh\n",
      "Processing in Progess 3 of set 9 | komsomolskiy\n",
      "Processing in Progess 4 of set 9 | mathathane\n",
      "Processing in Progess 5 of set 9 | ambilobe\n",
      "Processing in Progess 6 of set 9 | baishishan\n",
      "Processing in Progess 7 of set 9 | rocha\n",
      "Processing in Progess 8 of set 9 | jackson\n",
      "Processing in Progess 9 of set 9 | xuddur\n",
      "Processing in Progess 10 of set 9 | bin qirdan\n",
      "Processing in Progess 11 of set 9 | ciudad bolivar\n",
      "Processing in Progess 12 of set 9 | broken hill\n",
      "Processing in Progess 13 of set 9 | deputatskiy\n",
      "Processing in Progess 14 of set 9 | road town\n",
      "Processing in Progess 15 of set 9 | arkhipo-osipovka\n",
      "Processing in Progess 16 of set 9 | palmas\n",
      "Processing in Progess 17 of set 9 | kodinsk\n",
      "Processing in Progess 18 of set 9 | zhangjiakou\n",
      "Processing in Progess 19 of set 9 | necochea\n",
      "Processing in Progess 20 of set 9 | omboue\n",
      "Processing in Progess 21 of set 9 | itarema\n",
      "Processing in Progess 22 of set 9 | sao joao da barra\n",
      "Processing in Progess 23 of set 9 | babugarh\n",
      "Processing in Progess 24 of set 9 | palabuhanratu\n",
      "City not found. Skipping...\n",
      "Processing in Progess 25 of set 9 | kokoda\n",
      "Processing in Progess 26 of set 9 | dwarka\n",
      "Processing in Progess 27 of set 9 | springbok\n",
      "Processing in Progess 28 of set 9 | locri\n",
      "Processing in Progess 29 of set 9 | tabory\n",
      "Processing in Progess 30 of set 9 | fairfield\n",
      "Processing in Progess 31 of set 9 | mezhdurechenskiy\n",
      "Processing in Progess 32 of set 9 | podgornoye\n",
      "Processing in Progess 33 of set 9 | gujranwala\n",
      "Processing in Progess 34 of set 9 | manaure\n",
      "Processing in Progess 35 of set 9 | brae\n",
      "Processing in Progess 36 of set 9 | helong\n",
      "Processing in Progess 37 of set 9 | tongsa\n",
      "City not found. Skipping...\n",
      "Processing in Progess 38 of set 9 | brooks\n",
      "Processing in Progess 39 of set 9 | nagato\n",
      "Processing in Progess 40 of set 9 | port lincoln\n",
      "Processing in Progess 41 of set 9 | viligili\n",
      "City not found. Skipping...\n",
      "Processing in Progess 42 of set 9 | hambantota\n",
      "Processing in Progess 43 of set 9 | villazon\n",
      "Processing in Progess 44 of set 9 | esqueda\n",
      "Processing in Progess 45 of set 9 | anuradhapura\n",
      "Processing in Progess 46 of set 9 | barcelos\n",
      "Processing in Progess 47 of set 9 | nadym\n",
      "Processing in Progess 48 of set 9 | polohy\n",
      "Processing in Progess 49 of set 9 | kaduna\n",
      "Processing in Progess 50 of set 9 | leshukonskoye\n",
      "Processing in Progess 1 of set 10 | edd\n",
      "Processing in Progess 2 of set 10 | cairns\n",
      "Processing in Progess 3 of set 10 | byron bay\n",
      "Processing in Progess 4 of set 10 | ulladulla\n",
      "Processing in Progess 5 of set 10 | deniliquin\n",
      "Processing in Progess 6 of set 10 | barra\n",
      "Processing in Progess 7 of set 10 | evensk\n",
      "Processing in Progess 8 of set 10 | isilkul\n",
      "Processing in Progess 9 of set 10 | sola\n",
      "Processing in Progess 10 of set 10 | puerto carreno\n",
      "Processing in Progess 11 of set 10 | kita\n",
      "Processing in Progess 12 of set 10 | pacific grove\n",
      "Processing in Progess 13 of set 10 | okhotsk\n",
      "Processing in Progess 14 of set 10 | victoria\n",
      "Processing in Progess 15 of set 10 | ahuimanu\n",
      "Processing in Progess 16 of set 10 | kyzyl-suu\n",
      "Processing in Progess 17 of set 10 | salekhard\n",
      "Processing in Progess 18 of set 10 | selma\n",
      "Processing in Progess 19 of set 10 | tooele\n",
      "Processing in Progess 20 of set 10 | lasa\n",
      "Processing in Progess 21 of set 10 | miraflores\n",
      "Processing in Progess 22 of set 10 | namtsy\n",
      "Processing in Progess 23 of set 10 | alofi\n",
      "Processing in Progess 24 of set 10 | rancho palos verdes\n",
      "Processing in Progess 25 of set 10 | ambovombe\n",
      "Processing in Progess 26 of set 10 | emerald\n",
      "Processing in Progess 27 of set 10 | pangnirtung\n",
      "Processing in Progess 28 of set 10 | fortuna\n",
      "Processing in Progess 29 of set 10 | la ronge\n",
      "Processing in Progess 30 of set 10 | durban\n",
      "Processing in Progess 31 of set 10 | ventanas\n",
      "Processing in Progess 32 of set 10 | nago\n",
      "Processing in Progess 33 of set 10 | atar\n",
      "Processing in Progess 34 of set 10 | mvuma\n",
      "Processing in Progess 35 of set 10 | nuqui\n",
      "Processing in Progess 36 of set 10 | omsukchan\n",
      "Processing in Progess 37 of set 10 | egvekinot\n",
      "Processing in Progess 38 of set 10 | axim\n",
      "Processing in Progess 39 of set 10 | chipinge\n",
      "Processing in Progess 40 of set 10 | kirov\n",
      "Processing in Progess 41 of set 10 | oussouye\n",
      "Processing in Progess 42 of set 10 | olafsvik\n",
      "Processing in Progess 43 of set 10 | grand gaube\n",
      "Processing in Progess 44 of set 10 | nome\n",
      "Processing in Progess 45 of set 10 | sovetskiy\n",
      "Processing in Progess 46 of set 10 | yuli\n",
      "Processing in Progess 47 of set 10 | doctor juan manuel frutos\n",
      "Processing in Progess 48 of set 10 | paris\n",
      "Processing in Progess 49 of set 10 | nueva loja\n",
      "Processing in Progess 50 of set 10 | sabang\n",
      "Processing in Progess 1 of set 11 | mombetsu\n",
      "Processing in Progess 2 of set 11 | pangai\n",
      "Processing in Progess 3 of set 11 | chernyshevskiy\n",
      "Processing in Progess 4 of set 11 | lima\n",
      "Processing in Progess 5 of set 11 | mullaitivu\n",
      "City not found. Skipping...\n",
      "Processing in Progess 6 of set 11 | sur\n",
      "Processing in Progess 7 of set 11 | batticaloa\n",
      "Processing in Progess 8 of set 11 | monte alegre de minas\n",
      "Processing in Progess 9 of set 11 | pemba\n",
      "Processing in Progess 10 of set 11 | jalingo\n",
      "Processing in Progess 11 of set 11 | la romana\n",
      "Processing in Progess 12 of set 11 | urdzhar\n",
      "City not found. Skipping...\n",
      "Processing in Progess 13 of set 11 | kovdor\n",
      "Processing in Progess 14 of set 11 | port moresby\n",
      "Processing in Progess 15 of set 11 | antofagasta\n",
      "Processing in Progess 16 of set 11 | pascagoula\n",
      "Processing in Progess 17 of set 11 | teguldet\n",
      "Processing in Progess 18 of set 11 | bolshegrivskoye\n",
      "City not found. Skipping...\n",
      "Processing in Progess 19 of set 11 | starosubkhangulovo\n",
      "Processing in Progess 20 of set 11 | panormos\n",
      "Processing in Progess 21 of set 11 | bon accord\n",
      "Processing in Progess 22 of set 11 | makakilo city\n",
      "Processing in Progess 23 of set 11 | mimongo\n",
      "Processing in Progess 24 of set 11 | krasnoselkup\n"
     ]
    },
    {
     "name": "stdout",
     "output_type": "stream",
     "text": [
      "Processing in Progess 25 of set 11 | biskamzha\n",
      "Processing in Progess 26 of set 11 | asarganj\n",
      "Processing in Progess 27 of set 11 | lashio\n",
      "Processing in Progess 28 of set 11 | aguadulce\n",
      "Processing in Progess 29 of set 11 | kenai\n",
      "Processing in Progess 30 of set 11 | ugoofaaru\n",
      "Processing in Progess 31 of set 11 | salalah\n",
      "Processing in Progess 32 of set 11 | solnechnyy\n",
      "Processing in Progess 33 of set 11 | wajima\n",
      "Processing in Progess 34 of set 11 | bima\n",
      "Processing in Progess 35 of set 11 | kibaya\n",
      "Processing in Progess 36 of set 11 | kutum\n",
      "Processing in Progess 37 of set 11 | batagay-alyta\n",
      "Processing in Progess 38 of set 11 | oxford\n",
      "Processing in Progess 39 of set 11 | iranshahr\n",
      "Processing in Progess 40 of set 11 | huanren\n",
      "Processing in Progess 41 of set 11 | raudeberg\n",
      "Processing in Progess 42 of set 11 | abatskoye\n",
      "Processing in Progess 43 of set 11 | barra do garcas\n",
      "Processing in Progess 44 of set 11 | la palma\n",
      "Processing in Progess 45 of set 11 | hammerfest\n",
      "Processing in Progess 46 of set 11 | leku\n",
      "Processing in Progess 47 of set 11 | manta\n",
      "Processing in Progess 48 of set 11 | vicuna\n",
      "Processing in Progess 49 of set 11 | los llanos de aridane\n",
      "Processing in Progess 50 of set 11 | nevers\n",
      "Processing in Progess 1 of set 12 | zwedru\n",
      "Processing in Progess 2 of set 12 | ondorhaan\n",
      "City not found. Skipping...\n",
      "Processing in Progess 3 of set 12 | goderich\n",
      "Processing in Progess 4 of set 12 | mount isa\n",
      "Processing in Progess 5 of set 12 | challapata\n",
      "Processing in Progess 6 of set 12 | ryotsu\n",
      "Processing in Progess 7 of set 12 | la ligua\n",
      "Processing in Progess 8 of set 12 | chhukha\n",
      "City not found. Skipping...\n",
      "Processing in Progess 9 of set 12 | jiuquan\n",
      "Processing in Progess 10 of set 12 | ulagan\n",
      "Processing in Progess 11 of set 12 | rio verde de mato grosso\n",
      "Processing in Progess 12 of set 12 | ostersund\n",
      "Processing in Progess 13 of set 12 | phanom sarakham\n",
      "Processing in Progess 14 of set 12 | north platte\n",
      "Processing in Progess 15 of set 12 | zabid\n",
      "Processing in Progess 16 of set 12 | utrecht\n",
      "Processing in Progess 17 of set 12 | louisbourg\n",
      "City not found. Skipping...\n",
      "Processing in Progess 18 of set 12 | vanavara\n",
      "Processing in Progess 19 of set 12 | umzimvubu\n",
      "City not found. Skipping...\n",
      "Processing in Progess 20 of set 12 | tiznit\n",
      "Processing in Progess 21 of set 12 | araouane\n",
      "Processing in Progess 22 of set 12 | ponta delgada\n",
      "Processing in Progess 23 of set 12 | darnah\n",
      "Processing in Progess 24 of set 12 | arrecife\n",
      "Processing in Progess 25 of set 12 | valverde del camino\n",
      "Processing in Progess 26 of set 12 | ossora\n",
      "Processing in Progess 27 of set 12 | koroni\n",
      "Processing in Progess 28 of set 12 | champerico\n",
      "Processing in Progess 29 of set 12 | konya\n",
      "Processing in Progess 30 of set 12 | vysokogornyy\n",
      "Processing in Progess 31 of set 12 | lata\n",
      "Processing in Progess 32 of set 12 | kasongo-lunda\n",
      "Processing in Progess 33 of set 12 | kuah\n",
      "Processing in Progess 34 of set 12 | kanigoro\n",
      "Processing in Progess 35 of set 12 | karauzyak\n",
      "City not found. Skipping...\n",
      "Processing in Progess 36 of set 12 | am timan\n",
      "Processing in Progess 37 of set 12 | kalmunai\n",
      "Processing in Progess 38 of set 12 | taonan\n",
      "Processing in Progess 39 of set 12 | la tuque\n",
      "Processing in Progess 40 of set 12 | camacha\n",
      "Processing in Progess 41 of set 12 | kalabo\n",
      "Processing in Progess 42 of set 12 | kabinda\n",
      "Processing in Progess 43 of set 12 | sumbawa\n",
      "City not found. Skipping...\n",
      "Processing in Progess 44 of set 12 | karaul\n",
      "City not found. Skipping...\n",
      "Processing in Progess 45 of set 12 | matiri\n",
      "Processing in Progess 46 of set 12 | kedougou\n",
      "Processing in Progess 47 of set 12 | baruun-urt\n",
      "Processing in Progess 48 of set 12 | mana\n",
      "Processing in Progess 49 of set 12 | george town\n",
      "Processing in Progess 50 of set 12 | bratsk\n",
      "Processing in Progess 1 of set 13 | kangaatsiaq\n",
      "Processing in Progess 2 of set 13 | saint-augustin\n",
      "Completed\n"
     ]
    }
   ],
   "source": [
    "# Perform API calls\n",
    "# Perform a weather check on each city using a series of successive API calls.\n",
    "# Include a print log of each city as it'sbeing processed (with the city number and city name).\n",
    "\n",
    "# Build query URL\n",
    "url = \"http://api.openweathermap.org/data/2.5/weather?units=imperial&appid=\" + api_key\n",
    "\n",
    "# Set Counters\n",
    "city_counter = 1\n",
    "set_counter = 1\n",
    "\n",
    "# Create a set of lists to hold the values for the weather check on each city using a series of successive API Calls.\n",
    "cities_list = []\n",
    "cloudiness = []\n",
    "country = []\n",
    "date = []\n",
    "humidity = []\n",
    "lat = []\n",
    "lng = []\n",
    "max_temp = []\n",
    "wind_speed = []\n",
    "\n",
    "print(\"Begin\")\n",
    "\n",
    "# Create a query url for each city in the cities list to get json response\n",
    "for i, city in enumerate(cities):\n",
    "    \n",
    "    # Group cities as sets of 50s starting with 0\n",
    "    if (i % 50 ==0 and i >= 50):\n",
    "        set_counter = set_counter + 1\n",
    "        city_counter = 1\n",
    "        \n",
    "    # Create API url for each city\n",
    "    api_url = url + \"&q=\" + city\n",
    "        \n",
    "    # Get json response for each city\n",
    "    response = requests.get(api_url).json()\n",
    "        \n",
    "    # Print the results\n",
    "    print(f\"Processing in Progess {city_counter} of set {set_counter} | {city}\")\n",
    "        \n",
    "    # Increase city counter\n",
    "    city_counter += 1\n",
    "        \n",
    "    # Add the values to the lists\n",
    "    try:        \n",
    "        cloudiness.append(response[\"clouds\"][\"all\"])\n",
    "        country.append(response[\"sys\"][\"country\"])\n",
    "        date.append(response[\"dt\"])\n",
    "        humidity.append(response[\"main\"][\"humidity\"])\n",
    "        lat.append(response[\"coord\"][\"lat\"])\n",
    "        lng.append(response[\"coord\"][\"lon\"])\n",
    "        max_temp.append(response[\"main\"][\"temp_max\"])\n",
    "        wind_speed.append(response[\"wind\"][\"speed\"])\n",
    "        cities_list.append(city)\n",
    "    except:\n",
    "        print(\"City not found. Skipping...\")\n",
    "\n",
    "print(\"Completed\")\n",
    "        \n",
    "    \n",
    "        \n",
    "        "
   ]
  },
  {
   "cell_type": "code",
   "execution_count": 5,
   "metadata": {},
   "outputs": [
    {
     "data": {
      "text/plain": [
       "558"
      ]
     },
     "execution_count": 5,
     "metadata": {},
     "output_type": "execute_result"
    }
   ],
   "source": [
    "len(cloudiness)"
   ]
  },
  {
   "cell_type": "code",
   "execution_count": 6,
   "metadata": {},
   "outputs": [
    {
     "data": {
      "text/html": [
       "<div>\n",
       "<style scoped>\n",
       "    .dataframe tbody tr th:only-of-type {\n",
       "        vertical-align: middle;\n",
       "    }\n",
       "\n",
       "    .dataframe tbody tr th {\n",
       "        vertical-align: top;\n",
       "    }\n",
       "\n",
       "    .dataframe thead th {\n",
       "        text-align: right;\n",
       "    }\n",
       "</style>\n",
       "<table border=\"1\" class=\"dataframe\">\n",
       "  <thead>\n",
       "    <tr style=\"text-align: right;\">\n",
       "      <th></th>\n",
       "      <th>City</th>\n",
       "      <th>Cloudiness</th>\n",
       "      <th>Country</th>\n",
       "      <th>Date</th>\n",
       "      <th>Humidity</th>\n",
       "      <th>Latitude</th>\n",
       "      <th>Longtitude</th>\n",
       "      <th>Maximum Temperature</th>\n",
       "      <th>Wind Speed</th>\n",
       "    </tr>\n",
       "  </thead>\n",
       "  <tbody>\n",
       "    <tr>\n",
       "      <th>0</th>\n",
       "      <td>nenjiang</td>\n",
       "      <td>0</td>\n",
       "      <td>CN</td>\n",
       "      <td>1613234190</td>\n",
       "      <td>86</td>\n",
       "      <td>49.1833</td>\n",
       "      <td>125.2167</td>\n",
       "      <td>-5.33</td>\n",
       "      <td>7.70</td>\n",
       "    </tr>\n",
       "    <tr>\n",
       "      <th>1</th>\n",
       "      <td>viransehir</td>\n",
       "      <td>44</td>\n",
       "      <td>TR</td>\n",
       "      <td>1613234190</td>\n",
       "      <td>63</td>\n",
       "      <td>37.2353</td>\n",
       "      <td>39.7631</td>\n",
       "      <td>53.22</td>\n",
       "      <td>2.98</td>\n",
       "    </tr>\n",
       "    <tr>\n",
       "      <th>2</th>\n",
       "      <td>warrnambool</td>\n",
       "      <td>14</td>\n",
       "      <td>AU</td>\n",
       "      <td>1613234190</td>\n",
       "      <td>82</td>\n",
       "      <td>-38.3833</td>\n",
       "      <td>142.4833</td>\n",
       "      <td>54.84</td>\n",
       "      <td>5.37</td>\n",
       "    </tr>\n",
       "    <tr>\n",
       "      <th>3</th>\n",
       "      <td>volga</td>\n",
       "      <td>100</td>\n",
       "      <td>RU</td>\n",
       "      <td>1613234191</td>\n",
       "      <td>95</td>\n",
       "      <td>57.9516</td>\n",
       "      <td>38.3879</td>\n",
       "      <td>7.02</td>\n",
       "      <td>13.22</td>\n",
       "    </tr>\n",
       "    <tr>\n",
       "      <th>4</th>\n",
       "      <td>waipawa</td>\n",
       "      <td>20</td>\n",
       "      <td>NZ</td>\n",
       "      <td>1613234191</td>\n",
       "      <td>82</td>\n",
       "      <td>-41.4122</td>\n",
       "      <td>175.5153</td>\n",
       "      <td>62.01</td>\n",
       "      <td>19.57</td>\n",
       "    </tr>\n",
       "  </tbody>\n",
       "</table>\n",
       "</div>"
      ],
      "text/plain": [
       "          City  Cloudiness Country        Date  Humidity  Latitude  \\\n",
       "0     nenjiang           0      CN  1613234190        86   49.1833   \n",
       "1   viransehir          44      TR  1613234190        63   37.2353   \n",
       "2  warrnambool          14      AU  1613234190        82  -38.3833   \n",
       "3        volga         100      RU  1613234191        95   57.9516   \n",
       "4      waipawa          20      NZ  1613234191        82  -41.4122   \n",
       "\n",
       "   Longtitude  Maximum Temperature  Wind Speed  \n",
       "0    125.2167                -5.33        7.70  \n",
       "1     39.7631                53.22        2.98  \n",
       "2    142.4833                54.84        5.37  \n",
       "3     38.3879                 7.02       13.22  \n",
       "4    175.5153                62.01       19.57  "
      ]
     },
     "execution_count": 6,
     "metadata": {},
     "output_type": "execute_result"
    }
   ],
   "source": [
    "#Convert Raw Data to DataFrame\n",
    "\n",
    "# Export the city data into a .csv.\n",
    "# Display the DataFrame\n",
    "\n",
    "# Place the weather data into a dictonary before exporting it to csv\n",
    "weather_data_dict = {\n",
    "    \"City\": cities_list,\n",
    "    \"Cloudiness\": cloudiness,\n",
    "    \"Country\": country,\n",
    "    \"Date\": date,\n",
    "    \"Humidity\": humidity,\n",
    "    \"Latitude\": lat,\n",
    "    \"Longtitude\": lng,\n",
    "    \"Maximum Temperature\": max_temp,\n",
    "    \"Wind Speed\": wind_speed\n",
    "}\n",
    "\n",
    "# Create a dataframe and keep the count of each variables in the column\n",
    "weather_df = pd.DataFrame(weather_data_dict)\n",
    "weather_df.head()"
   ]
  },
  {
   "cell_type": "code",
   "execution_count": 7,
   "metadata": {},
   "outputs": [
    {
     "data": {
      "text/html": [
       "<div>\n",
       "<style scoped>\n",
       "    .dataframe tbody tr th:only-of-type {\n",
       "        vertical-align: middle;\n",
       "    }\n",
       "\n",
       "    .dataframe tbody tr th {\n",
       "        vertical-align: top;\n",
       "    }\n",
       "\n",
       "    .dataframe thead th {\n",
       "        text-align: right;\n",
       "    }\n",
       "</style>\n",
       "<table border=\"1\" class=\"dataframe\">\n",
       "  <thead>\n",
       "    <tr style=\"text-align: right;\">\n",
       "      <th></th>\n",
       "      <th>City</th>\n",
       "      <th>Cloudiness</th>\n",
       "      <th>Country</th>\n",
       "      <th>Date</th>\n",
       "      <th>Humidity</th>\n",
       "      <th>Latitude</th>\n",
       "      <th>Longtitude</th>\n",
       "      <th>Maximum Temperature</th>\n",
       "      <th>Wind Speed</th>\n",
       "    </tr>\n",
       "  </thead>\n",
       "  <tbody>\n",
       "    <tr>\n",
       "      <th>0</th>\n",
       "      <td>nenjiang</td>\n",
       "      <td>0</td>\n",
       "      <td>CN</td>\n",
       "      <td>1613234190</td>\n",
       "      <td>86</td>\n",
       "      <td>49.1833</td>\n",
       "      <td>125.2167</td>\n",
       "      <td>-5.33</td>\n",
       "      <td>7.70</td>\n",
       "    </tr>\n",
       "    <tr>\n",
       "      <th>1</th>\n",
       "      <td>viransehir</td>\n",
       "      <td>44</td>\n",
       "      <td>TR</td>\n",
       "      <td>1613234190</td>\n",
       "      <td>63</td>\n",
       "      <td>37.2353</td>\n",
       "      <td>39.7631</td>\n",
       "      <td>53.22</td>\n",
       "      <td>2.98</td>\n",
       "    </tr>\n",
       "    <tr>\n",
       "      <th>2</th>\n",
       "      <td>warrnambool</td>\n",
       "      <td>14</td>\n",
       "      <td>AU</td>\n",
       "      <td>1613234190</td>\n",
       "      <td>82</td>\n",
       "      <td>-38.3833</td>\n",
       "      <td>142.4833</td>\n",
       "      <td>54.84</td>\n",
       "      <td>5.37</td>\n",
       "    </tr>\n",
       "    <tr>\n",
       "      <th>3</th>\n",
       "      <td>volga</td>\n",
       "      <td>100</td>\n",
       "      <td>RU</td>\n",
       "      <td>1613234191</td>\n",
       "      <td>95</td>\n",
       "      <td>57.9516</td>\n",
       "      <td>38.3879</td>\n",
       "      <td>7.02</td>\n",
       "      <td>13.22</td>\n",
       "    </tr>\n",
       "    <tr>\n",
       "      <th>4</th>\n",
       "      <td>waipawa</td>\n",
       "      <td>20</td>\n",
       "      <td>NZ</td>\n",
       "      <td>1613234191</td>\n",
       "      <td>82</td>\n",
       "      <td>-41.4122</td>\n",
       "      <td>175.5153</td>\n",
       "      <td>62.01</td>\n",
       "      <td>19.57</td>\n",
       "    </tr>\n",
       "  </tbody>\n",
       "</table>\n",
       "</div>"
      ],
      "text/plain": [
       "          City  Cloudiness Country        Date  Humidity  Latitude  \\\n",
       "0     nenjiang           0      CN  1613234190        86   49.1833   \n",
       "1   viransehir          44      TR  1613234190        63   37.2353   \n",
       "2  warrnambool          14      AU  1613234190        82  -38.3833   \n",
       "3        volga         100      RU  1613234191        95   57.9516   \n",
       "4      waipawa          20      NZ  1613234191        82  -41.4122   \n",
       "\n",
       "   Longtitude  Maximum Temperature  Wind Speed  \n",
       "0    125.2167                -5.33        7.70  \n",
       "1     39.7631                53.22        2.98  \n",
       "2    142.4833                54.84        5.37  \n",
       "3     38.3879                 7.02       13.22  \n",
       "4    175.5153                62.01       19.57  "
      ]
     },
     "execution_count": 7,
     "metadata": {},
     "output_type": "execute_result"
    }
   ],
   "source": [
    "# Display the dataframe\n",
    "weather_df.head()"
   ]
  },
  {
   "cell_type": "markdown",
   "metadata": {},
   "source": [
    "## The first requirement is to create a series of scatter plots to showcase the following relationships:\n",
    "\n",
    "#### Temperature (F) vs. Latitude\n",
    "#### Humidity (%) vs. Latitude\n",
    "#### Cloudiness (%) vs. Latitude\n",
    "#### Wind Speed (mph) vs. Latitude\n",
    "#### After each plot, add a sentence or two explaining what the code is analyzing."
   ]
  },
  {
   "cell_type": "markdown",
   "metadata": {},
   "source": [
    "## LATITUDE VS. TEMPERATURE SCATTER PLOT"
   ]
  },
  {
   "cell_type": "code",
   "execution_count": 8,
   "metadata": {},
   "outputs": [
    {
     "data": {
      "image/png": "[encoded data removed]",
      "text/plain": [
       "<Figure size 432x288 with 1 Axes>"
      ]
     },
     "metadata": {
      "needs_background": "light"
     },
     "output_type": "display_data"
    }
   ],
   "source": [
    "# Plotting the Data\n",
    "# Use proper labeling of the plots using plot titles (including date of analysis) and axes labels.\n",
    "# Save the plotted figures as .pngs.\n",
    "\n",
    "# LATITUDE VS. TEMPERATURE SCATTER PLOT\n",
    "\n",
    "# Create a scatter plot for lattitude vs. temperature \n",
    "plt.scatter(weather_df[\"Latitude\"], weather_df[\"Maximum Temperature\"], facecolor = \"navy\", edgecolor = \"black\")\n",
    "plt.title(\"City Latitude vs. Max Temperature (%s)\" % time.strftime(\"%x\"))\n",
    "plt.xlabel(\"Latitude\")\n",
    "plt.ylabel(\"Max Temperature (F)\")\n",
    "plt.grid()\n",
    "plt.savefig(\"output_files/Images/LatitudevsTemperature.png\")\n",
    "plt.show()"
   ]
  },
  {
   "cell_type": "markdown",
   "metadata": {},
   "source": [
    "### The plot above describes the relationship between latitude and maximum temperature. It explains that when you reach closer to the equator of the earth which is latitude 0, the temperature gets hotter and hotter. "
   ]
  },
  {
   "cell_type": "markdown",
   "metadata": {},
   "source": [
    "## LATITUDE VS. HUMIDITY SCATTER PLOT"
   ]
  },
  {
   "cell_type": "code",
   "execution_count": 9,
   "metadata": {},
   "outputs": [
    {
     "data": {
      "image/png": "[encoded data removed]",
      "text/plain": [
       "<Figure size 432x288 with 1 Axes>"
      ]
     },
     "metadata": {
      "needs_background": "light"
     },
     "output_type": "display_data"
    }
   ],
   "source": [
    "# Plotting the Data\n",
    "# Use proper labeling of the plots using plot titles (including date of analysis) and axes labels.\n",
    "# Save the plotted figures as .pngs.\n",
    "\n",
    "# LATITUDE VS. HUMIDITY SCATTER PLOT\n",
    "\n",
    "# Create a scatter plot for lattitude vs. temperature \n",
    "plt.scatter(weather_df[\"Latitude\"], weather_df[\"Humidity\"], facecolor = \"navy\", edgecolor = \"black\")\n",
    "plt.title(\"City Latitude vs. Humidity (%s)\" % time.strftime(\"%x\"))\n",
    "plt.xlabel(\"Latitude\")\n",
    "plt.ylabel(\"Humidity\")\n",
    "plt.grid()\n",
    "plt.savefig(\"output_files/Images/LatitudevsHumidity.png\")\n",
    "plt.show()"
   ]
  },
  {
   "cell_type": "markdown",
   "metadata": {},
   "source": [
    "### The plot above describes the relationship between latitude and humidity. It explains that there is not much of a correlation between the relationship of latitude and humidity. "
   ]
  },
  {
   "cell_type": "markdown",
   "metadata": {},
   "source": [
    "## LATITUDE VS. CLOUDINESS SCATTER PLOT"
   ]
  },
  {
   "cell_type": "code",
   "execution_count": 10,
   "metadata": {},
   "outputs": [
    {
     "data": {
      "image/png": "[encoded data removed]",
      "text/plain": [
       "<Figure size 432x288 with 1 Axes>"
      ]
     },
     "metadata": {
      "needs_background": "light"
     },
     "output_type": "display_data"
    }
   ],
   "source": [
    "# Plotting the Data\n",
    "# Use proper labeling of the plots using plot titles (including date of analysis) and axes labels.\n",
    "# Save the plotted figures as .pngs.\n",
    "\n",
    "# LATITUDE VS. CLOUDINESS SCATTER PLOT\n",
    "\n",
    "# Create a scatter plot for lattitude vs. temperature \n",
    "plt.scatter(weather_df[\"Latitude\"], weather_df[\"Cloudiness\"], facecolor = \"navy\", edgecolor = \"black\")\n",
    "plt.title(\"City Latitude vs. Cloudiness (%s)\" % time.strftime(\"%x\"))\n",
    "plt.xlabel(\"Latitude\")\n",
    "plt.ylabel(\"Cloudiness\")\n",
    "plt.grid()\n",
    "plt.savefig(\"output_files/Images/LatitudevsCloudiness.png\")\n",
    "plt.show()"
   ]
  },
  {
   "cell_type": "markdown",
   "metadata": {},
   "source": [
    "### The plot above describes the relationship between latitude and cloudiness. It explains that there is not much correlation between the relationship of latitude and cloudiness."
   ]
  },
  {
   "cell_type": "code",
   "execution_count": 11,
   "metadata": {},
   "outputs": [
    {
     "data": {
      "image/png": "[encoded data removed]",
      "text/plain": [
       "<Figure size 432x288 with 1 Axes>"
      ]
     },
     "metadata": {
      "needs_background": "light"
     },
     "output_type": "display_data"
    }
   ],
   "source": [
    "# Plotting the Data\n",
    "# Use proper labeling of the plots using plot titles (including date of analysis) and axes labels.\n",
    "# Save the plotted figures as .pngs.\n",
    "\n",
    "# LATITUDE VS. WIND SPEED SCATTER PLOT\n",
    "\n",
    "# Create a scatter plot for lattitude vs. temperature \n",
    "plt.scatter(weather_df[\"Latitude\"], weather_df[\"Wind Speed\"], facecolor = \"navy\", edgecolor = \"black\")\n",
    "plt.title(\"City Latitude vs. Wind Speed (%s)\" % time.strftime(\"%x\"))\n",
    "plt.xlabel(\"Latitude\")\n",
    "plt.ylabel(\"Wind Speed\")\n",
    "plt.grid()\n",
    "plt.savefig(\"output_files/Images/LatitudevsWindspeed.png\")\n",
    "plt.show()"
   ]
  },
  {
   "cell_type": "markdown",
   "metadata": {},
   "source": [
    "### The plot above describes the relationship between latitude and wind speed in mph. It explains that wind speeds are generally high when you are moving further away from the equation which is latitdue 0. "
   ]
  },
  {
   "cell_type": "markdown",
   "metadata": {},
   "source": [
    "## The second requirement is to run linear regression on each relationship. This time, separate the plots into Northern Hemisphere (greater than or equal to 0 degrees latitude) and Southern Hemisphere (less than 0 degrees latitude):\n",
    "\n",
    "### Northern Hemisphere - Temperature (F) vs. Latitude\n",
    "### Southern Hemisphere - Temperature (F) vs. Latitude\n",
    "### Northern Hemisphere - Humidity (%) vs. Latitude\n",
    "### Southern Hemisphere - Humidity (%) vs. Latitude\n",
    "### Northern Hemisphere - Cloudiness (%) vs. Latitude\n",
    "### Southern Hemisphere - Cloudiness (%) vs. Latitude\n",
    "### Northern Hemisphere - Wind Speed (mph) vs. Latitude\n",
    "### Southern Hemisphere - Wind Speed (mph) vs. Latitude\n",
    "\n",
    "## After each pair of plots, take the time to explain what the linear regression is modeling. For example, describe any relationships you notice and any other analysis you may have."
   ]
  },
  {
   "cell_type": "code",
   "execution_count": 12,
   "metadata": {},
   "outputs": [],
   "source": [
    "# Create Northern and Southern Hemipshere DataFrame\n",
    "data_regress = weather_df[\"Latitude\"] > 0\n",
    "northern_hemp = weather_df[data_regress]\n",
    "southern_hemp = weather_df[data_regress]\n",
    "\n",
    "southern_hemp = weather_df.loc[weather_df[\"Latitude\"] < 0]"
   ]
  },
  {
   "cell_type": "code",
   "execution_count": 21,
   "metadata": {},
   "outputs": [],
   "source": [
    "# LINEAR REGRESSION\n",
    "# Create a function to create Linear Regression plots\n",
    "# Define function for creating linear regression and scattor plot\n",
    "\n",
    "\n",
    "def plot_linear_regression(x_values,y_values,x_label,y_label,x_ann,y_ann,label_pos,filename):\n",
    "    (slope, intercept, rvalue, pvalue, stderr) = linregress(x_values, y_values)\n",
    "    print(f\"The r-squared is : {rvalue}\")\n",
    "    regress_values = x_values * slope + intercept\n",
    "    line_eq = \"y = \" + str(round(slope,2)) + \"x + \" + str(round(intercept,2))\n",
    "    plt.scatter(x_values,y_values)\n",
    "    plt.plot(x_values,regress_values,\"r-\")\n",
    "    plt.annotate(line_eq,(x_ann,y_ann),fontsize=15,color=\"red\")\n",
    "    plt.xlabel(x_label)\n",
    "    plt.ylabel(y_label)\n",
    "    plt.savefig(f\"output_files/Images/{filename}\")\n",
    "    plt.show()"
   ]
  },
  {
   "cell_type": "markdown",
   "metadata": {},
   "source": [
    "## Northern Hemisphere - Max Temp vs. Latitude Linear Regression\n"
   ]
  },
  {
   "cell_type": "code",
   "execution_count": 24,
   "metadata": {},
   "outputs": [
    {
     "name": "stdout",
     "output_type": "stream",
     "text": [
      "The r-squared is : -0.8897070477598891\n"
     ]
    },
    {
     "data": {
      "image/png": "[encoded data removed]",
      "text/plain": [
       "<Figure size 432x288 with 1 Axes>"
      ]
     },
     "metadata": {
      "needs_background": "light"
     },
     "output_type": "display_data"
    }
   ],
   "source": [
    "# Northern Hemisphere - Max Temperature (F) vs. Latitude Linear Regression\n",
    "\n",
    "x_label = \"Latitude\"\n",
    "y_label = \"Maximum Temperature\"\n",
    "label_pos = (0,25)\n",
    "plot_linear_regression(northern_hemp[x_label],northern_hemp[y_label],x_label,y_label,5,10,label_pos,\"northhemp-maxtempvslatitude\")"
   ]
  },
  {
   "cell_type": "markdown",
   "metadata": {},
   "source": [
    "### The plot above describes the linear regression relationship between latitude and temperature in Northern Hemisphere. It explains that as you get closer to the equator at latitude 0, there is rise in temperature. It also shows that Northern Hemisphere seems to have an healthy one to one relationship."
   ]
  },
  {
   "cell_type": "markdown",
   "metadata": {},
   "source": [
    "## Southern Hemisphere - Max Temp vs. Latitude Linear Regression"
   ]
  },
  {
   "cell_type": "code",
   "execution_count": 26,
   "metadata": {},
   "outputs": [
    {
     "name": "stdout",
     "output_type": "stream",
     "text": [
      "The r-squared is : 0.5869961049828165\n"
     ]
    },
    {
     "data": {
      "image/png": "[encoded data removed]",
      "text/plain": [
       "<Figure size 432x288 with 1 Axes>"
      ]
     },
     "metadata": {
      "needs_background": "light"
     },
     "output_type": "display_data"
    }
   ],
   "source": [
    "# Southern Hemisphere - Max Temperature (F) vs. Latitude Linear Regression\n",
    "\n",
    "x_label = \"Latitude\"\n",
    "y_label = \"Maximum Temperature\"\n",
    "label_pos = (0,25)\n",
    "plot_linear_regression(southern_hemp[x_label],southern_hemp[y_label],x_label,y_label,6,10,label_pos,\"southhemp-maxtempvslatitude\")"
   ]
  },
  {
   "cell_type": "markdown",
   "metadata": {},
   "source": [
    "### The plot above describes the linear regression relationship between latitude and temperature in Southern Hemisphere. It explains that as you get closer to the equator at latitude 0, there is rise in temperature. \n",
    "\n",
    "\n",
    "### Looking at both graphs above between temperature and latitude in northern and southern hemisphere, it shows that there is inverse relationship between latitude and temperature between northern and southern hemisphere. Also there is a s trong correlation for both the hemispheres as well. \n",
    "\n",
    "### I had limitation on correcting my x_label to start from 0 to -50 from left to right. Instead it started with -50 and went to 0 from left to right. Which might not correlate the result I wanted to show in the graph."
   ]
  },
  {
   "cell_type": "markdown",
   "metadata": {},
   "source": [
    "## Northern Hemisphere - Humidity vs. Latitude Linear Regression"
   ]
  },
  {
   "cell_type": "code",
   "execution_count": 27,
   "metadata": {},
   "outputs": [
    {
     "name": "stdout",
     "output_type": "stream",
     "text": [
      "The r-squared is : 0.3888911781311015\n"
     ]
    },
    {
     "data": {
      "image/png": "[encoded data removed]",
      "text/plain": [
       "<Figure size 432x288 with 1 Axes>"
      ]
     },
     "metadata": {
      "needs_background": "light"
     },
     "output_type": "display_data"
    }
   ],
   "source": [
    "x_label = \"Latitude\"\n",
    "y_label = \"Humidity\"\n",
    "label_pos = (0,25)\n",
    "plot_linear_regression(northern_hemp[x_label],northern_hemp[y_label],x_label,y_label,6,10,label_pos,\"northhemp-maxtempvslatitude\")"
   ]
  },
  {
   "cell_type": "markdown",
   "metadata": {},
   "source": [
    "### The plot above describes the linear regression relationship between latitude and humidity in Northern Hemisphere. It explains that as you get further away from the equator, humidity increases."
   ]
  },
  {
   "cell_type": "markdown",
   "metadata": {},
   "source": [
    "## Southern Hemisphere - Humidity vs. Latitude Linear Regression"
   ]
  },
  {
   "cell_type": "code",
   "execution_count": 41,
   "metadata": {},
   "outputs": [
    {
     "name": "stdout",
     "output_type": "stream",
     "text": [
      "The r-squared is : 0.08493961121887109\n"
     ]
    },
    {
     "data": {
      "image/png": "[encoded data removed]",
      "text/plain": [
       "<Figure size 432x288 with 1 Axes>"
      ]
     },
     "metadata": {
      "needs_background": "light"
     },
     "output_type": "display_data"
    }
   ],
   "source": [
    "x_label = \"Latitude\"\n",
    "y_label = \"Humidity\"\n",
    "label_pos = (0,25)\n",
    "plot_linear_regression(southern_hemp[x_label],southern_hemp[y_label],x_label,y_label,-35,80,label_pos,\"southernhemp-humidvslatitude\")"
   ]
  },
  {
   "cell_type": "markdown",
   "metadata": {},
   "source": [
    "### The plot above describes the linear regression relationship between latitude and humidity in Southern Hemisphere. It explains that as you get further away from the equator, humidity decreases.\n",
    "\n",
    "### Looking at both graphs above between humidity and latitude in northern and southern hemisphere, it shows strong correlation between humidity and latitude. The difference in correlation seems to be positive one in Northern Hemisphere and a negative one in Southern Hemisphere. The meaning of the correation is described for both graphs above, respectively. \n",
    "\n",
    "### I had limitation on correcting my x_label to start from 0 to -50 from left to right. Instead it started with -50 and went to 0 from left to right. Which might not correlate the result I wanted to show in the graph. \n"
   ]
  },
  {
   "cell_type": "markdown",
   "metadata": {},
   "source": [
    "## Northern Hemisphere - Cloudiness vs. Latitude Linear Regression"
   ]
  },
  {
   "cell_type": "code",
   "execution_count": 34,
   "metadata": {},
   "outputs": [
    {
     "name": "stdout",
     "output_type": "stream",
     "text": [
      "The r-squared is : 0.2819928666080328\n"
     ]
    },
    {
     "data": {
      "image/png": "[encoded data removed]",
      "text/plain": [
       "<Figure size 432x288 with 1 Axes>"
      ]
     },
     "metadata": {
      "needs_background": "light"
     },
     "output_type": "display_data"
    }
   ],
   "source": [
    "x_label = \"Latitude\"\n",
    "y_label = \"Cloudiness\"\n",
    "label_pos = (0,25)\n",
    "plot_linear_regression(northern_hemp[x_label],northern_hemp[y_label],x_label,y_label,6,10,label_pos,\"northernhemp-cloudvslatitude\")"
   ]
  },
  {
   "cell_type": "markdown",
   "metadata": {},
   "source": [
    "### The plot above describes the linear regression relationship between latitude and cloudiness in Northern Hemisphere. It explains that it is less cloudiness in the northern hemisphere since we are far away from the hemisphere. "
   ]
  },
  {
   "cell_type": "markdown",
   "metadata": {},
   "source": [
    "## Southern Hemisphere - Cloudiness vs. Latitude Linear Regression"
   ]
  },
  {
   "cell_type": "code",
   "execution_count": 35,
   "metadata": {},
   "outputs": [
    {
     "name": "stdout",
     "output_type": "stream",
     "text": [
      "The r-squared is : 0.13205762526354203\n"
     ]
    },
    {
     "data": {
      "image/png": "[encoded data removed]",
      "text/plain": [
       "<Figure size 432x288 with 1 Axes>"
      ]
     },
     "metadata": {
      "needs_background": "light"
     },
     "output_type": "display_data"
    }
   ],
   "source": [
    "x_label = \"Latitude\"\n",
    "y_label = \"Cloudiness\"\n",
    "label_pos = (0,25)\n",
    "plot_linear_regression(southern_hemp[x_label],southern_hemp[y_label],x_label,y_label,-25,10,label_pos,\"southernhemp-cloudvslatitude\")"
   ]
  },
  {
   "cell_type": "markdown",
   "metadata": {},
   "source": [
    "### The plot above describes the linear regression relationship between latitude and cloudiness in Southern Hemisphere. It explains that since the southern hemisphere is close to the equator (latitude 0), if you are close to the equator there is more cloudiness compared to being further away such as in northern hemisphere. \n",
    "\n",
    "### Looking at both graphs above between temperature and humidity in northern and southern hemisphere, it shows strong correlation between humidity and latitude. The difference in correlation seems to be positive one in Northern Hemisphere and a negative one in Southern Hemisphere. The meaning of the correation is described for both graphs above, respectively."
   ]
  },
  {
   "cell_type": "markdown",
   "metadata": {},
   "source": [
    "## Northern Hemisphere - Wind Speed (mph) vs. Latitude Linear Regression"
   ]
  },
  {
   "cell_type": "code",
   "execution_count": 36,
   "metadata": {},
   "outputs": [
    {
     "name": "stdout",
     "output_type": "stream",
     "text": [
      "The r-squared is : 0.04455562156540088\n"
     ]
    },
    {
     "data": {
      "image/png": "[encoded data removed]",
      "text/plain": [
       "<Figure size 432x288 with 1 Axes>"
      ]
     },
     "metadata": {
      "needs_background": "light"
     },
     "output_type": "display_data"
    }
   ],
   "source": [
    "x_label = \"Latitude\"\n",
    "y_label = \"Wind Speed\"\n",
    "label_pos = (45,22)\n",
    "plot_linear_regression(northern_hemp[x_label],northern_hemp[y_label],x_label,y_label,6,10,label_pos,\"northernhemp-windspvslatitude\")"
   ]
  },
  {
   "cell_type": "markdown",
   "metadata": {},
   "source": [
    "### The plot above describes the linear regression relationship between latitude and wind speed (mph) in Northern Hemisphere. It explains that the further you are from the equator the higher the wind speed is. ¶"
   ]
  },
  {
   "cell_type": "markdown",
   "metadata": {},
   "source": [
    "## Southern Hemisphere - Wind Speed (mph) vs. Latitude Linear Regression"
   ]
  },
  {
   "cell_type": "code",
   "execution_count": 37,
   "metadata": {},
   "outputs": [
    {
     "name": "stdout",
     "output_type": "stream",
     "text": [
      "The r-squared is : -0.056813397502249154\n"
     ]
    },
    {
     "data": {
      "image/png": "[encoded data removed]",
      "text/plain": [
       "<Figure size 432x288 with 1 Axes>"
      ]
     },
     "metadata": {
      "needs_background": "light"
     },
     "output_type": "display_data"
    }
   ],
   "source": [
    "x_label = \"Latitude\"\n",
    "y_label = \"Wind Speed\"\n",
    "label_pos = (45,22)\n",
    "plot_linear_regression(southern_hemp[x_label],southern_hemp[y_label],x_label,y_label,6,10,label_pos,\"southernhemp-windspvslatitude\")"
   ]
  },
  {
   "cell_type": "markdown",
   "metadata": {},
   "source": [
    "### The plot above describes the linear regression relationship between latitude and wind speed (mph) in Southern Hemisphere. It explains that the further you are from the equator the higher the wind speed is.¶\n",
    "\n",
    "### Looking at both plots above there seems to be pretty strong correlation between wind speed and latitude. The linear regression shows a much lower correlation than what you see. There is a definite correlation in both hemispheres. In both hemispheres, the further you are from the equator the higher the wind speeds are.\n",
    "\n",
    "### I had limitation on correcting my x_label to start from 0 to -50 from left to right. Instead it started with -50 and went to 0 from left to right. Which might not correlate the result I wanted to show in the graph.\n",
    "\n"
   ]
  }
 ],
 "metadata": {
  "kernelspec": {
   "display_name": "Python 3",
   "language": "python",
   "name": "python3"
  },
  "language_info": {
   "codemirror_mode": {
    "name": "ipython",
    "version": 3
   },
   "file_extension": ".py",
   "mimetype": "text/x-python",
   "name": "python",
   "nbconvert_exporter": "python",
   "pygments_lexer": "ipython3",
   "version": "3.8.5"
  }
 },
 "nbformat": 4,
 "nbformat_minor": 4
}
